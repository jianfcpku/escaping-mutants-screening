{
 "cells": [
  {
   "cell_type": "code",
   "execution_count": 19,
   "id": "d05457be-c405-46e0-80bc-d9967b99ca96",
   "metadata": {},
   "outputs": [],
   "source": [
    "library(ggplot2)\n",
    "library(tidyverse)\n",
    "\n",
    "data <- read.csv(\"rVSV_results.csv\")\n"
   ]
  },
  {
   "cell_type": "code",
   "execution_count": 20,
   "id": "85f727ea-ed0c-4c24-8a49-e4336aa9435d",
   "metadata": {},
   "outputs": [
    {
     "data": {
      "text/html": [
       "<strong>null device:</strong> 1"
      ],
      "text/latex": [
       "\\textbf{null device:} 1"
      ],
      "text/markdown": [
       "**null device:** 1"
      ],
      "text/plain": [
       "null device \n",
       "          1 "
      ]
     },
     "metadata": {},
     "output_type": "display_data"
    },
    {
     "data": {
      "text/html": [
       "<strong>null device:</strong> 1"
      ],
      "text/latex": [
       "\\textbf{null device:} 1"
      ],
      "text/markdown": [
       "**null device:** 1"
      ],
      "text/plain": [
       "null device \n",
       "          1 "
      ]
     },
     "metadata": {},
     "output_type": "display_data"
    },
    {
     "data": {
      "text/html": [
       "<strong>null device:</strong> 1"
      ],
      "text/latex": [
       "\\textbf{null device:} 1"
      ],
      "text/markdown": [
       "**null device:** 1"
      ],
      "text/plain": [
       "null device \n",
       "          1 "
      ]
     },
     "metadata": {},
     "output_type": "display_data"
    }
   ],
   "source": [
    "# 55 rep1\n",
    "plot_muts <- c(\"V503E\",\"G504S\",\"K440E\")\n",
    "\n",
    "colors <- c(\"#6345a9\", \"#3365b9\", \"#339896\")\n",
    "names(colors) <- plot_muts\n",
    "\n",
    "data_antibody <- data %>% filter(site_mut %in% plot_muts & antibody == \"SA55\" & rep == \"rep1\") %>% pivot_wider(id_cols = c(antibody, rep, site_mut),names_from = ep, values_from = value, values_fill = 0) %>% pivot_longer(cols = starts_with('P'), names_to = \"ep\", values_to = \"value\")\n",
    "data_antibody$ep <- factor(data_antibody$ep, levels=c(\"P1\",\"P2\",\"P3\",\"P4\",\"P5\",\"P6\",\"P7\",\"P8\",\"P9\",\"P10\"))\n",
    "dev.off()\n",
    "pdf(\"SA55-rep1.pdf\", width=2.5, height=2)\n",
    "ggplot(data_antibody, aes(ep, value)) + scale_color_manual(values=colors)+\n",
    "    geom_line(aes(color=site_mut, group=site_mut), alpha=0.5) + ylim(0,1) + \n",
    "    geom_point(aes(color=site_mut, shape=site_mut), alpha=0.5) + theme_classic() +\n",
    "    theme(panel.border = element_rect(fill=NA,size=1),\n",
    "          axis.title = element_blank(),\n",
    "          axis.line = element_blank())+ggtitle(\"SA55 rep1\")\n",
    "dev.off()\n",
    "# 55 rep2\n",
    "plot_muts <- c(\"L371F\",\"V503E\",\"G504D\",\"Y508H\")\n",
    "\n",
    "colors <- c(\"#56bc27\", \"#6345a9\", \"#2345a9\", \"#926349\")\n",
    "names(colors) <- plot_muts\n",
    "\n",
    "data_antibody <- data %>% filter(site_mut %in% plot_muts & antibody == \"SA55\" & rep == \"rep2\") %>% pivot_wider(id_cols = c(antibody, rep, site_mut),names_from = ep, values_from = value, values_fill = 0) %>% pivot_longer(cols = starts_with('P'), names_to = \"ep\", values_to = \"value\")\n",
    "data_antibody$ep <- factor(data_antibody$ep, levels=c(\"P1\",\"P2\",\"P3\",\"P4\",\"P5\",\"P6\",\"P7\",\"P8\",\"P9\",\"P10\"))\n",
    "pdf(\"SA55-rep2.pdf\", width=2.5, height=2)\n",
    "ggplot(data_antibody, aes(ep, value)) + scale_color_manual(values=colors)+\n",
    "    geom_line(aes(color=site_mut, group=site_mut), alpha=0.5) + ylim(0,1) + \n",
    "    geom_point(aes(color=site_mut, shape=site_mut), alpha=0.5) + theme_classic() +\n",
    "    theme(panel.border = element_rect(fill=NA,size=1),\n",
    "          axis.title = element_blank(),\n",
    "          axis.line = element_blank())+ggtitle(\"SA55 rep2\")\n",
    "dev.off()"
   ]
  },
  {
   "cell_type": "code",
   "execution_count": 21,
   "id": "d7bb03bf-e93b-4d7a-a747-571a91b1b42e",
   "metadata": {},
   "outputs": [
    {
     "data": {
      "text/html": [
       "<strong>null device:</strong> 1"
      ],
      "text/latex": [
       "\\textbf{null device:} 1"
      ],
      "text/markdown": [
       "**null device:** 1"
      ],
      "text/plain": [
       "null device \n",
       "          1 "
      ]
     },
     "metadata": {},
     "output_type": "display_data"
    },
    {
     "data": {
      "text/html": [
       "<strong>null device:</strong> 1"
      ],
      "text/latex": [
       "\\textbf{null device:} 1"
      ],
      "text/markdown": [
       "**null device:** 1"
      ],
      "text/plain": [
       "null device \n",
       "          1 "
      ]
     },
     "metadata": {},
     "output_type": "display_data"
    },
    {
     "data": {
      "text/html": [
       "<strong>null device:</strong> 1"
      ],
      "text/latex": [
       "\\textbf{null device:} 1"
      ],
      "text/markdown": [
       "**null device:** 1"
      ],
      "text/plain": [
       "null device \n",
       "          1 "
      ]
     },
     "metadata": {},
     "output_type": "display_data"
    }
   ],
   "source": [
    "# 58 rep1\n",
    "plot_muts <- c(\"K444N\",\"T345P\",\"E340D\")\n",
    "\n",
    "colors <- c(\"#a79896\", \"#caac18\", \"#490863\")\n",
    "names(colors) <- plot_muts\n",
    "\n",
    "data_antibody <- data %>% filter(site_mut %in% plot_muts & antibody == \"SA58\" & rep == \"rep1\") %>% pivot_wider(id_cols = c(antibody, rep, site_mut),names_from = ep, values_from = value, values_fill = 0) %>% pivot_longer(cols = starts_with('P'), names_to = \"ep\", values_to = \"value\")\n",
    "data_antibody$ep <- factor(data_antibody$ep, levels=c(\"P1\",\"P2\",\"P3\",\"P4\",\"P5\",\"P6\",\"P7\",\"P8\",\"P9\",\"P10\"))\n",
    "dev.off()\n",
    "pdf(\"SA58-rep1.pdf\", width=2.5, height=2)\n",
    "ggplot(data_antibody, aes(ep, value)) + scale_color_manual(values=colors)+\n",
    "    geom_line(aes(color=site_mut, group=site_mut), alpha=0.5) + ylim(0,1) + \n",
    "    geom_point(aes(color=site_mut, shape=site_mut), alpha=0.5) + theme_classic() +\n",
    "    theme(panel.border = element_rect(fill=NA,size=1),\n",
    "          axis.title = element_blank(),\n",
    "          axis.line = element_blank())+ggtitle(\"SA58 rep1\")\n",
    "dev.off()\n",
    "# 58 rep2\n",
    "plot_muts <- c(\"F373S\",\"E340D\",\"E340K\",\"R346Q\")\n",
    "\n",
    "colors <- c(\"#888830\", \"#490863\", \"#4908a9\", \"#de0806\")\n",
    "names(colors) <- plot_muts\n",
    "\n",
    "data_antibody <- data %>% filter(site_mut %in% plot_muts & antibody == \"SA58\" & rep == \"rep2\") %>% pivot_wider(id_cols = c(antibody, rep, site_mut),names_from = ep, values_from = value, values_fill = 0) %>% pivot_longer(cols = starts_with('P'), names_to = \"ep\", values_to = \"value\")\n",
    "data_antibody$ep <- factor(data_antibody$ep, levels=c(\"P1\",\"P2\",\"P3\",\"P4\",\"P5\",\"P6\",\"P7\",\"P8\",\"P9\",\"P10\"))\n",
    "pdf(\"SA58-rep2.pdf\", width=2.5, height=2)\n",
    "ggplot(data_antibody, aes(ep, value)) + scale_color_manual(values=colors)+\n",
    "    geom_line(aes(color=site_mut, group=site_mut), alpha=0.5) + ylim(0,1) + \n",
    "    geom_point(aes(color=site_mut, shape=site_mut), alpha=0.5) + theme_classic() +\n",
    "    theme(panel.border = element_rect(fill=NA,size=1),\n",
    "          axis.title = element_blank(),\n",
    "          axis.line = element_blank())+ggtitle(\"SA58 rep2\")\n",
    "dev.off()"
   ]
  },
  {
   "cell_type": "code",
   "execution_count": 22,
   "id": "cd697507-1f53-45aa-b8ec-adbe53811230",
   "metadata": {},
   "outputs": [
    {
     "data": {
      "text/html": [
       "<strong>null device:</strong> 1"
      ],
      "text/latex": [
       "\\textbf{null device:} 1"
      ],
      "text/markdown": [
       "**null device:** 1"
      ],
      "text/plain": [
       "null device \n",
       "          1 "
      ]
     },
     "metadata": {},
     "output_type": "display_data"
    },
    {
     "data": {
      "text/html": [
       "<strong>null device:</strong> 1"
      ],
      "text/latex": [
       "\\textbf{null device:} 1"
      ],
      "text/markdown": [
       "**null device:** 1"
      ],
      "text/plain": [
       "null device \n",
       "          1 "
      ]
     },
     "metadata": {},
     "output_type": "display_data"
    }
   ],
   "source": [
    "# 55+58 rep1\n",
    "plot_muts <- c(\"R346Q\",\"L371F\",\"K444N\",\"G504D\")\n",
    "\n",
    "colors <- c(\"#de0806\", \"#56bc27\", \"#a79896\", \"#2345a9\")\n",
    "names(colors) <- plot_muts\n",
    "\n",
    "data_antibody <- data %>% filter(site_mut %in% plot_muts & antibody == \"SA55+SA58\" & rep == \"rep1\") %>% pivot_wider(id_cols = c(antibody, rep, site_mut),names_from = ep, values_from = value, values_fill = 0) %>% pivot_longer(cols = starts_with('P'), names_to = \"ep\", values_to = \"value\")\n",
    "data_antibody$ep <- factor(data_antibody$ep, levels=c(\"P1\",\"P2\",\"P3\",\"P4\",\"P5\",\"P6\",\"P7\",\"P8\",\"P9\",\"P10\"))\n",
    "dev.off()\n",
    "pdf(\"SA55+58-rep1.pdf\", width=3, height=2)\n",
    "ggplot(data_antibody, aes(ep, value)) + scale_color_manual(values=colors)+\n",
    "    geom_line(aes(color=site_mut, group=site_mut), alpha=0.5) + ylim(0,1) + \n",
    "    geom_point(aes(color=site_mut, shape=site_mut), alpha=0.5) + theme_classic() +\n",
    "    theme(panel.border = element_rect(fill=NA,size=1),\n",
    "          axis.title = element_blank(),\n",
    "          axis.line = element_blank())+ggtitle(\"SA55+SA58 rep1\")\n",
    "dev.off()"
   ]
  },
  {
   "cell_type": "code",
   "execution_count": 23,
   "id": "9ce63ada-9463-4ebc-a447-4cb1f5028dc8",
   "metadata": {},
   "outputs": [
    {
     "data": {
      "text/html": [
       "<strong>null device:</strong> 1"
      ],
      "text/latex": [
       "\\textbf{null device:} 1"
      ],
      "text/markdown": [
       "**null device:** 1"
      ],
      "text/plain": [
       "null device \n",
       "          1 "
      ]
     },
     "metadata": {},
     "output_type": "display_data"
    },
    {
     "data": {
      "text/html": [
       "<strong>null device:</strong> 1"
      ],
      "text/latex": [
       "\\textbf{null device:} 1"
      ],
      "text/markdown": [
       "**null device:** 1"
      ],
      "text/plain": [
       "null device \n",
       "          1 "
      ]
     },
     "metadata": {},
     "output_type": "display_data"
    }
   ],
   "source": [
    "# 55+58 rep2\n",
    "plot_muts <- c(\"D339Y\", \"E340D\", \"R346Q\", \"K356T\", \"K444N\",\"G504D\")\n",
    "\n",
    "colors <- c(\"#c47750\", \"#490863\", \"#de0806\", \"#d10c99\", \"#a79896\", \"#2345a9\")\n",
    "names(colors) <- plot_muts\n",
    "\n",
    "data_antibody <- data %>% filter(site_mut %in% plot_muts & antibody == \"SA55+SA58\" & rep == \"rep2\") %>% pivot_wider(id_cols = c(antibody, rep, site_mut),names_from = ep, values_from = value, values_fill = 0) %>% pivot_longer(cols = starts_with('P'), names_to = \"ep\", values_to = \"value\")\n",
    "data_antibody$ep <- factor(data_antibody$ep, levels=c(\"P1\",\"P2\",\"P3\",\"P4\",\"P5\",\"P6\",\"P7\",\"P8\",\"P9\",\"P10\"))\n",
    "dev.off()\n",
    "pdf(\"SA55+58-rep2.pdf\", width=3, height=2)\n",
    "ggplot(data_antibody, aes(ep, value)) + scale_color_manual(values=colors)+\n",
    "    geom_line(aes(color=site_mut, group=site_mut), alpha=0.5) + ylim(0,1) + \n",
    "    geom_point(aes(color=site_mut, shape=site_mut), alpha=0.5) + theme_classic() +\n",
    "    theme(panel.border = element_rect(fill=NA,size=1),\n",
    "          axis.title = element_blank(),\n",
    "          axis.line = element_blank())+ggtitle(\"SA55+SA58 rep2\")\n",
    "dev.off()"
   ]
  },
  {
   "cell_type": "code",
   "execution_count": 24,
   "id": "373cb755-b1a7-4de3-bff4-2a1fac70947a",
   "metadata": {},
   "outputs": [
    {
     "data": {
      "text/html": [
       "<strong>null device:</strong> 1"
      ],
      "text/latex": [
       "\\textbf{null device:} 1"
      ],
      "text/markdown": [
       "**null device:** 1"
      ],
      "text/plain": [
       "null device \n",
       "          1 "
      ]
     },
     "metadata": {},
     "output_type": "display_data"
    },
    {
     "data": {
      "text/html": [
       "<strong>null device:</strong> 1"
      ],
      "text/latex": [
       "\\textbf{null device:} 1"
      ],
      "text/markdown": [
       "**null device:** 1"
      ],
      "text/plain": [
       "null device \n",
       "          1 "
      ]
     },
     "metadata": {},
     "output_type": "display_data"
    }
   ],
   "source": [
    "# 55+58 rep3\n",
    "plot_muts <- c(\"L371F\", \"K356T\", \"K444E\",\"V503E\")\n",
    "\n",
    "colors <- c(\"#56bc27\", \"#d10c99\", \"#c788aa\", \"#6345a9\")\n",
    "names(colors) <- plot_muts\n",
    "\n",
    "data_antibody <- data %>% filter(site_mut %in% plot_muts & antibody == \"SA55+SA58\" & rep == \"rep3\") %>% pivot_wider(id_cols = c(antibody, rep, site_mut),names_from = ep, values_from = value, values_fill = 0) %>% pivot_longer(cols = starts_with('P'), names_to = \"ep\", values_to = \"value\")\n",
    "data_antibody$ep <- factor(data_antibody$ep, levels=c(\"P1\",\"P2\",\"P3\",\"P4\",\"P5\",\"P6\",\"P7\",\"P8\",\"P9\",\"P10\"))\n",
    "dev.off()\n",
    "pdf(\"SA55+58-rep3.pdf\", width=3, height=2)\n",
    "ggplot(data_antibody, aes(ep, value)) + scale_color_manual(values=colors)+\n",
    "    geom_line(aes(color=site_mut, group=site_mut), alpha=0.5) + ylim(0,1) + \n",
    "    geom_point(aes(color=site_mut, shape=site_mut), alpha=0.5) + theme_classic() +\n",
    "    theme(panel.border = element_rect(fill=NA,size=1),\n",
    "          axis.title = element_blank(),\n",
    "          axis.line = element_blank())+ggtitle(\"SA55+SA58 rep3\")\n",
    "dev.off()"
   ]
  },
  {
   "cell_type": "code",
   "execution_count": 25,
   "id": "86dd9b0c-c709-4157-9e48-83a8e8d11c5c",
   "metadata": {},
   "outputs": [
    {
     "data": {
      "text/html": [
       "<strong>null device:</strong> 1"
      ],
      "text/latex": [
       "\\textbf{null device:} 1"
      ],
      "text/markdown": [
       "**null device:** 1"
      ],
      "text/plain": [
       "null device \n",
       "          1 "
      ]
     },
     "metadata": {},
     "output_type": "display_data"
    },
    {
     "data": {
      "text/html": [
       "<strong>null device:</strong> 1"
      ],
      "text/latex": [
       "\\textbf{null device:} 1"
      ],
      "text/markdown": [
       "**null device:** 1"
      ],
      "text/plain": [
       "null device \n",
       "          1 "
      ]
     },
     "metadata": {},
     "output_type": "display_data"
    }
   ],
   "source": [
    "# 55+58 rep2\n",
    "plot_muts <- c(\"E340D\", \"T345N\", \"R346Q\", \"G504D\")\n",
    "\n",
    "colors <- c(\"#490863\", \"#aacc08\", \"#de0806\",\"#2345a9\")\n",
    "names(colors) <- plot_muts\n",
    "\n",
    "data_antibody <- data %>% filter(site_mut %in% plot_muts & antibody == \"SA55+SA58\" & rep == \"rep4\") %>% pivot_wider(id_cols = c(antibody, rep, site_mut),names_from = ep, values_from = value, values_fill = 0) %>% pivot_longer(cols = starts_with('P'), names_to = \"ep\", values_to = \"value\")\n",
    "data_antibody$ep <- factor(data_antibody$ep, levels=c(\"P1\",\"P2\",\"P3\",\"P4\",\"P5\",\"P6\",\"P7\",\"P8\",\"P9\",\"P10\"))\n",
    "dev.off()\n",
    "pdf(\"SA55+58-rep4.pdf\", width=3, height=2)\n",
    "ggplot(data_antibody, aes(ep, value)) + scale_color_manual(values=colors)+\n",
    "    geom_line(aes(color=site_mut, group=site_mut), alpha=0.5) + ylim(0,1) + \n",
    "    geom_point(aes(color=site_mut, shape=site_mut), alpha=0.5) + theme_classic() +\n",
    "    theme(panel.border = element_rect(fill=NA,size=1),\n",
    "          axis.title = element_blank(),\n",
    "          axis.line = element_blank())+ggtitle(\"SA55+SA58 rep4\")\n",
    "dev.off()"
   ]
  }
 ],
 "metadata": {
  "kernelspec": {
   "display_name": "R",
   "language": "R",
   "name": "ir"
  },
  "language_info": {
   "codemirror_mode": "r",
   "file_extension": ".r",
   "mimetype": "text/x-r-source",
   "name": "R",
   "pygments_lexer": "r",
   "version": "4.1.0"
  }
 },
 "nbformat": 4,
 "nbformat_minor": 5
}
